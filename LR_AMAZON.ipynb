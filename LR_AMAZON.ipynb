{
 "cells": [
  {
   "cell_type": "code",
   "execution_count": 1,
   "id": "73bdf013",
   "metadata": {},
   "outputs": [],
   "source": [
    "import pandas as pd\n",
    "import numpy as np\n",
    "import bz2"
   ]
  },
  {
   "cell_type": "code",
   "execution_count": 2,
   "id": "25dfebe1",
   "metadata": {},
   "outputs": [],
   "source": [
    "def get_labels_and_texts(file):\n",
    "    labels = []\n",
    "    texts = []\n",
    "    for line in bz2.BZ2File(file):\n",
    "        x = line.decode(\"utf-8\")\n",
    "        labels.append(int(x[9]) - 1)\n",
    "        texts.append(x[10:].strip())\n",
    "    return np.array(labels), texts\n",
    "\n",
    "train_lables, train_texts = get_labels_and_texts(r\"C:\\Users\\Manoj\\Downloads\\train.ft.txt.bz2\\train.ft.txt.bz2\")\n",
    "test_lables, test_texts = get_labels_and_texts(r\"C:\\Users\\Manoj\\Downloads\\test.ft.txt.bz2\\test.ft.txt.bz2\")\n"
   ]
  },
  {
   "cell_type": "code",
   "execution_count": 4,
   "id": "f8160198",
   "metadata": {},
   "outputs": [
    {
     "data": {
      "text/plain": [
       "1"
      ]
     },
     "execution_count": 4,
     "metadata": {},
     "output_type": "execute_result"
    }
   ],
   "source": [
    "train_lables[0]"
   ]
  },
  {
   "cell_type": "code",
   "execution_count": 5,
   "id": "824c9c31",
   "metadata": {},
   "outputs": [
    {
     "data": {
      "text/plain": [
       "'Stuning even for the non-gamer: This sound track was beautiful! It paints the senery in your mind so well I would recomend it even to people who hate vid. game music! I have played the game Chrono Cross but out of all of the games I have ever played it has the best music! It backs away from crude keyboarding and takes a fresher step with grate guitars and soulful orchestras. It would impress anyone who cares to listen! ^_^'"
      ]
     },
     "execution_count": 5,
     "metadata": {},
     "output_type": "execute_result"
    }
   ],
   "source": [
    "train_texts[0]"
   ]
  },
  {
   "cell_type": "code",
   "execution_count": 6,
   "id": "5a50f945",
   "metadata": {},
   "outputs": [],
   "source": [
    "# Extracting top 500 outof 50,000 since we are working on logistic regression\n",
    "\n",
    "train_lables = train_lables[0:500]\n",
    "train_texts = train_texts[0:500]"
   ]
  },
  {
   "cell_type": "code",
   "execution_count": 31,
   "id": "155d0642",
   "metadata": {},
   "outputs": [],
   "source": [
    "# text preprocessing: vomiting all special characters, punctuation marks(,.) and explanatory marks and turning all into lower case\n",
    "import re\n",
    "\n",
    "NON_ALPHANUM = re.compile(r'[\\W]')\n",
    "\n",
    "NON_ASCII = re.compile(r'[^a-z0-1\\s]')\n",
    "\n",
    "def normalise_texts(texts):\n",
    "    normalise_texts = []\n",
    "    for text in texts:\n",
    "        lower = text.lower()\n",
    "        no_punctuation = NON_ALPHANUM.sub(r' ', lower)\n",
    "        no_non_ascii = NON_ASCII.sub(r'', no_punctuation)\n",
    "        normalise_texts.append(no_non_ascii)\n",
    "    return normalise_texts\n",
    "\n",
    "train_texts = normalise_texts(train_texts)\n",
    "test_texts = normalise_texts(test_texts)"
   ]
  },
  {
   "cell_type": "code",
   "execution_count": 29,
   "id": "68592e03",
   "metadata": {},
   "outputs": [
    {
     "data": {
      "text/plain": [
       "'stuning even for the non gamer  this sound track was beautiful  it paints the senery in your mind so well i would recomend it even to people who hate vid  game music  i have played the game chrono cross but out of all of the games i have ever played it has the best music  it backs away from crude keyboarding and takes a fresher step with grate guitars and soulful orchestras  it would impress anyone who cares to listen    '"
      ]
     },
     "execution_count": 29,
     "metadata": {},
     "output_type": "execute_result"
    }
   ],
   "source": [
    "train_texts[0]"
   ]
  },
  {
   "cell_type": "code",
   "execution_count": 33,
   "id": "b8a19aaf",
   "metadata": {},
   "outputs": [],
   "source": [
    "# Vectroizing all the text to make it as machine understandable : basic task in natural language processing\n",
    "\n",
    "from sklearn.feature_extraction.text import CountVectorizer\n",
    "\n",
    "cv = CountVectorizer(binary = True)\n",
    "cv.fit(train_texts)\n",
    "X = cv.transform(train_texts)\n",
    "X_test = cv.transform(test_texts)"
   ]
  },
  {
   "cell_type": "code",
   "execution_count": 35,
   "id": "619b7611",
   "metadata": {},
   "outputs": [
    {
     "name": "stdout",
     "output_type": "stream",
     "text": [
      "  (0, 213)\t1\n",
      "  (0, 282)\t1\n",
      "  (0, 398)\t1\n",
      "  (0, 503)\t1\n",
      "  (0, 506)\t1\n",
      "  (0, 511)\t1\n",
      "  (0, 525)\t1\n",
      "  (0, 561)\t1\n",
      "  (0, 761)\t1\n",
      "  (0, 1305)\t1\n",
      "  (0, 1698)\t1\n",
      "  (0, 1701)\t1\n",
      "  (0, 1857)\t1\n",
      "  (0, 1864)\t1\n",
      "  (0, 1973)\t1\n",
      "  (0, 2090)\t1\n",
      "  (0, 2156)\t1\n",
      "  (0, 2193)\t1\n",
      "  (0, 2279)\t1\n",
      "  (0, 2288)\t1\n",
      "  (0, 2331)\t1\n",
      "  (0, 2525)\t1\n",
      "  (0, 2678)\t1\n",
      "  (0, 2681)\t1\n",
      "  (0, 2689)\t1\n",
      "  :\t:\n",
      "  (399999, 3817)\t1\n",
      "  (399999, 3987)\t1\n",
      "  (399999, 4059)\t1\n",
      "  (399999, 4194)\t1\n",
      "  (399999, 4363)\t1\n",
      "  (399999, 4413)\t1\n",
      "  (399999, 4667)\t1\n",
      "  (399999, 4773)\t1\n",
      "  (399999, 4888)\t1\n",
      "  (399999, 5087)\t1\n",
      "  (399999, 5090)\t1\n",
      "  (399999, 5094)\t1\n",
      "  (399999, 5100)\t1\n",
      "  (399999, 5104)\t1\n",
      "  (399999, 5107)\t1\n",
      "  (399999, 5125)\t1\n",
      "  (399999, 5186)\t1\n",
      "  (399999, 5191)\t1\n",
      "  (399999, 5455)\t1\n",
      "  (399999, 5540)\t1\n",
      "  (399999, 5609)\t1\n",
      "  (399999, 5610)\t1\n",
      "  (399999, 5620)\t1\n",
      "  (399999, 5649)\t1\n",
      "  (399999, 5759)\t1\n"
     ]
    }
   ],
   "source": [
    "print(X_test)"
   ]
  },
  {
   "cell_type": "code",
   "execution_count": 49,
   "id": "c698b6de",
   "metadata": {},
   "outputs": [
    {
     "data": {
      "text/html": [
       "<style>#sk-container-id-1 {color: black;background-color: white;}#sk-container-id-1 pre{padding: 0;}#sk-container-id-1 div.sk-toggleable {background-color: white;}#sk-container-id-1 label.sk-toggleable__label {cursor: pointer;display: block;width: 100%;margin-bottom: 0;padding: 0.3em;box-sizing: border-box;text-align: center;}#sk-container-id-1 label.sk-toggleable__label-arrow:before {content: \"▸\";float: left;margin-right: 0.25em;color: #696969;}#sk-container-id-1 label.sk-toggleable__label-arrow:hover:before {color: black;}#sk-container-id-1 div.sk-estimator:hover label.sk-toggleable__label-arrow:before {color: black;}#sk-container-id-1 div.sk-toggleable__content {max-height: 0;max-width: 0;overflow: hidden;text-align: left;background-color: #f0f8ff;}#sk-container-id-1 div.sk-toggleable__content pre {margin: 0.2em;color: black;border-radius: 0.25em;background-color: #f0f8ff;}#sk-container-id-1 input.sk-toggleable__control:checked~div.sk-toggleable__content {max-height: 200px;max-width: 100%;overflow: auto;}#sk-container-id-1 input.sk-toggleable__control:checked~label.sk-toggleable__label-arrow:before {content: \"▾\";}#sk-container-id-1 div.sk-estimator input.sk-toggleable__control:checked~label.sk-toggleable__label {background-color: #d4ebff;}#sk-container-id-1 div.sk-label input.sk-toggleable__control:checked~label.sk-toggleable__label {background-color: #d4ebff;}#sk-container-id-1 input.sk-hidden--visually {border: 0;clip: rect(1px 1px 1px 1px);clip: rect(1px, 1px, 1px, 1px);height: 1px;margin: -1px;overflow: hidden;padding: 0;position: absolute;width: 1px;}#sk-container-id-1 div.sk-estimator {font-family: monospace;background-color: #f0f8ff;border: 1px dotted black;border-radius: 0.25em;box-sizing: border-box;margin-bottom: 0.5em;}#sk-container-id-1 div.sk-estimator:hover {background-color: #d4ebff;}#sk-container-id-1 div.sk-parallel-item::after {content: \"\";width: 100%;border-bottom: 1px solid gray;flex-grow: 1;}#sk-container-id-1 div.sk-label:hover label.sk-toggleable__label {background-color: #d4ebff;}#sk-container-id-1 div.sk-serial::before {content: \"\";position: absolute;border-left: 1px solid gray;box-sizing: border-box;top: 0;bottom: 0;left: 50%;z-index: 0;}#sk-container-id-1 div.sk-serial {display: flex;flex-direction: column;align-items: center;background-color: white;padding-right: 0.2em;padding-left: 0.2em;position: relative;}#sk-container-id-1 div.sk-item {position: relative;z-index: 1;}#sk-container-id-1 div.sk-parallel {display: flex;align-items: stretch;justify-content: center;background-color: white;position: relative;}#sk-container-id-1 div.sk-item::before, #sk-container-id-1 div.sk-parallel-item::before {content: \"\";position: absolute;border-left: 1px solid gray;box-sizing: border-box;top: 0;bottom: 0;left: 50%;z-index: -1;}#sk-container-id-1 div.sk-parallel-item {display: flex;flex-direction: column;z-index: 1;position: relative;background-color: white;}#sk-container-id-1 div.sk-parallel-item:first-child::after {align-self: flex-end;width: 50%;}#sk-container-id-1 div.sk-parallel-item:last-child::after {align-self: flex-start;width: 50%;}#sk-container-id-1 div.sk-parallel-item:only-child::after {width: 0;}#sk-container-id-1 div.sk-dashed-wrapped {border: 1px dashed gray;margin: 0 0.4em 0.5em 0.4em;box-sizing: border-box;padding-bottom: 0.4em;background-color: white;}#sk-container-id-1 div.sk-label label {font-family: monospace;font-weight: bold;display: inline-block;line-height: 1.2em;}#sk-container-id-1 div.sk-label-container {text-align: center;}#sk-container-id-1 div.sk-container {/* jupyter's `normalize.less` sets `[hidden] { display: none; }` but bootstrap.min.css set `[hidden] { display: none !important; }` so we also need the `!important` here to be able to override the default hidden behavior on the sphinx rendered scikit-learn.org. See: https://github.com/scikit-learn/scikit-learn/issues/21755 */display: inline-block !important;position: relative;}#sk-container-id-1 div.sk-text-repr-fallback {display: none;}</style><div id=\"sk-container-id-1\" class=\"sk-top-container\"><div class=\"sk-text-repr-fallback\"><pre>LogisticRegression()</pre><b>In a Jupyter environment, please rerun this cell to show the HTML representation or trust the notebook. <br />On GitHub, the HTML representation is unable to render, please try loading this page with nbviewer.org.</b></div><div class=\"sk-container\" hidden><div class=\"sk-item\"><div class=\"sk-estimator sk-toggleable\"><input class=\"sk-toggleable__control sk-hidden--visually\" id=\"sk-estimator-id-1\" type=\"checkbox\" checked><label for=\"sk-estimator-id-1\" class=\"sk-toggleable__label sk-toggleable__label-arrow\">LogisticRegression</label><div class=\"sk-toggleable__content\"><pre>LogisticRegression()</pre></div></div></div></div></div>"
      ],
      "text/plain": [
       "LogisticRegression()"
      ]
     },
     "execution_count": 49,
     "metadata": {},
     "output_type": "execute_result"
    }
   ],
   "source": [
    "# Building model and testing its accuracy with train and val dataset which is splitted from train dataset only\n",
    "\n",
    "from sklearn.linear_model import LogisticRegression\n",
    "from sklearn.metrics import accuracy_score\n",
    "from sklearn.model_selection import train_test_split\n",
    "\n",
    "X_train, X_val, y_train, y_val = train_test_split(X, train_lables, train_size = 0.75)\n",
    "\n",
    "#for c in [0.01, 0.05, 0.25, 0.5, 1]:\n",
    "#    lr = LogisticRegression(C = c)\n",
    " #   lr.fit(X_train, y_train)\n",
    "  #  print(c, accuracy_score(y_val, lr.predict(X_val)))\n",
    "lr = LogisticRegression()\n",
    "\n",
    "lr.fit(X_train, y_train)"
   ]
  },
  {
   "cell_type": "code",
   "execution_count": 51,
   "id": "54b82209",
   "metadata": {},
   "outputs": [
    {
     "data": {
      "text/plain": [
       "(array([0]), 0)"
      ]
     },
     "execution_count": 51,
     "metadata": {},
     "output_type": "execute_result"
    }
   ],
   "source": [
    "lr.predict(X_test[29]), test_lables[29]"
   ]
  },
  {
   "cell_type": "code",
   "execution_count": null,
   "id": "3e47e4a1",
   "metadata": {},
   "outputs": [],
   "source": []
  }
 ],
 "metadata": {
  "kernelspec": {
   "display_name": "Python 3 (ipykernel)",
   "language": "python",
   "name": "python3"
  },
  "language_info": {
   "codemirror_mode": {
    "name": "ipython",
    "version": 3
   },
   "file_extension": ".py",
   "mimetype": "text/x-python",
   "name": "python",
   "nbconvert_exporter": "python",
   "pygments_lexer": "ipython3",
   "version": "3.10.10"
  }
 },
 "nbformat": 4,
 "nbformat_minor": 5
}
